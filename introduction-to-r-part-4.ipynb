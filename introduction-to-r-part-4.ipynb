{
 "cells": [
  {
   "cell_type": "markdown",
   "metadata": {},
   "source": [
    "#### R in a nutshell\n",
    "\n",
    "- Statistical programming environments\n",
    "- Originally designed and implemented by statisticians\n",
    "- Widely popular due to its extensive collection of community-contributed packages\n",
    "- Quickly gaining places among traditional proprietary tools such as SAS and STATA for data analytics\n",
    "\n",
    "#### Learning Objectives\n",
    "\n",
    "- Understand basic programming concepts: variables, assignment, functions, loops, conditions\n",
    "- Understand core R concepts: data loading, data types, data access, libraries\n",
    "- Understand advanced R concepts: data manipulation, visualization\n",
    "- Understand HPC concepts: running R codes on the Palmetto supercomputer via batch submission scripts\n",
    "\n",
    "#### Materials on this notebook is based on two lessons by Software Carpentry and Data Carpentry:\n",
    "\n",
    "- Introduction to Programming using R\n",
    "- Data Analysis and Visualization in R for Ecology"
   ]
  },
  {
   "cell_type": "markdown",
   "metadata": {},
   "source": [
    "*Running R on a Supercomputer (if not running RStudio from inside Palmetto or through JupyterHub)*\n",
    "\n",
    "- Log into to Palmetto via JupyterHub interface: https://www.palmetto.clemson.edu/jupyter or MobaXterm\n",
    "- Request an allocation with the following parameter: 1 chunk, 8 cores, 8gb memory, no gpu, 1 hour\n",
    "- Create a directory called **intro-to-r**\n",
    "- Create a directory called **data** inside **intro-to-r**\n",
    "- Upload the .csv files from your machine into **data** on Palmetto using JupyterHub interface"
   ]
  },
  {
   "cell_type": "markdown",
   "metadata": {},
   "source": [
    "#### Running R on a Supercomputer from JupyterHub\n",
    "\n",
    "- Create a new text file named **analyze-1.R** inside **intro-to-r**"
   ]
  },
  {
   "cell_type": "code",
   "execution_count": 5,
   "metadata": {},
   "outputs": [
    {
     "name": "stdout",
     "output_type": "stream",
     "text": [
      "Overwriting analyze-1.R\n"
     ]
    }
   ],
   "source": [
    "%%writefile analyze-1.R\n",
    "surveys <- read.csv(\"data/combined.csv\")\n",
    "\n",
    "library(dplyr)\n",
    "\n",
    "surveys_complete <- surveys %>%\n",
    "  filter(species_id != \"\",         # remove missing species_id\n",
    "         !is.na(weight),           # remove missing weight\n",
    "         !is.na(hindfoot_length),  # remove missing hindfoot_length\n",
    "         sex != \"\")                # remove missing sex\n",
    "    \n",
    "## Extract the most common species_id\n",
    "species_counts <- surveys_complete %>%\n",
    "  group_by(species_id) %>%\n",
    "  tally %>%\n",
    "  filter(n >= 50)\n",
    "    \n",
    "## Only keep the most common species\n",
    "surveys_complete <- surveys_complete %>%\n",
    "  filter(species_id %in% species_counts$species_id)\n",
    "\n",
    "yearly_sex_counts <- surveys_complete %>%\n",
    "  group_by(year, species_id, sex) %>%\n",
    "  tally\n",
    "    \n",
    "library(ggplot2)\n",
    "\n",
    "my_plot <- ggplot(data = yearly_sex_counts, aes(x = year, y = n, color = sex, group = sex)) +\n",
    "    geom_line() +\n",
    "    facet_wrap(~ species_id) +\n",
    "    labs(title = 'Observed species in time',\n",
    "        x = 'Year of observation',\n",
    "        y = 'Number of species') +\n",
    "    theme_bw() +\n",
    "    theme(axis.text.x = element_text(colour=\"grey20\", size=12, angle=90, hjust=.5, vjust=.5),\n",
    "                        axis.text.y = element_text(colour=\"grey20\", size=12),\n",
    "          text=element_text(size=16, family=\"Arial\"))\n",
    "\n",
    "current_dir <- getwd()\n",
    "output_graph_dir <- 'output_graph'\n",
    "\n",
    "if (!file.exists(output_graph_dir)){\n",
    "    dir.create(file.path(current_dir, output_graph_dir))\n",
    "} else {\n",
    "    print (\"Directory already exists\")\n",
    "}\n",
    "\n",
    "ggsave(file.path(current_dir, output_graph_dir,\"yearly_sex_counts_2.png\"), \n",
    "       my_plot, width=15, height=10)"
   ]
  },
  {
   "cell_type": "markdown",
   "metadata": {},
   "source": [
    "- Upload **analyze-1.R** into **intro-to-r** on Palmetto\n",
    "- Test run **analyze-1.R**"
   ]
  },
  {
   "cell_type": "code",
   "execution_count": 6,
   "metadata": {
    "collapsed": true
   },
   "outputs": [],
   "source": [
    "!module load R; R CMD BATCH analyze-1.R"
   ]
  },
  {
   "cell_type": "markdown",
   "metadata": {},
   "source": [
    "- Create a new text file named **analyze-2.R** inside **intro-to-r**"
   ]
  },
  {
   "cell_type": "code",
   "execution_count": 7,
   "metadata": {},
   "outputs": [
    {
     "name": "stdout",
     "output_type": "stream",
     "text": [
      "Writing analyze-2.R\n"
     ]
    }
   ],
   "source": [
    "%%writefile analyze-2.R\n",
    "args = commandArgs(trailingOnly=TRUE)\n",
    "\n",
    "print (args)\n",
    "\n",
    "setwd(args[1])\n",
    "surveys <- read.csv(args[2])\n",
    "\n",
    "library(dplyr)\n",
    "\n",
    "surveys_complete <- surveys %>%\n",
    "  filter(species_id != \"\",         # remove missing species_id\n",
    "         !is.na(weight),           # remove missing weight\n",
    "         !is.na(hindfoot_length),  # remove missing hindfoot_length\n",
    "         sex != \"\")                # remove missing sex\n",
    "    \n",
    "## Extract the most common species_id\n",
    "species_counts <- surveys_complete %>%\n",
    "  group_by(species_id) %>%\n",
    "  tally %>%\n",
    "  filter(n >= 50)\n",
    "    \n",
    "## Only keep the most common species\n",
    "surveys_complete <- surveys_complete %>%\n",
    "  filter(species_id %in% species_counts$species_id)\n",
    "\n",
    "yearly_sex_counts <- surveys_complete %>%\n",
    "  group_by(year, species_id, sex) %>%\n",
    "  tally\n",
    "    \n",
    "library(ggplot2)\n",
    "\n",
    "my_plot <- ggplot(data = yearly_sex_counts, aes(x = year, y = n, color = sex, group = sex)) +\n",
    "    geom_line() +\n",
    "    facet_wrap(~ species_id) +\n",
    "    labs(title = 'Observed species in time',\n",
    "        x = 'Year of observation',\n",
    "        y = 'Number of species') +\n",
    "    theme_bw() +\n",
    "    theme(axis.text.x = element_text(colour=\"grey20\", size=12, angle=90, hjust=.5, vjust=.5),\n",
    "                        axis.text.y = element_text(colour=\"grey20\", size=12),\n",
    "          text=element_text(size=16, family=\"Arial\"))\n",
    "\n",
    "current_dir <- getwd()\n",
    "output_graph_dir <- 'output_graph'\n",
    "\n",
    "if (!file.exists(output_graph_dir)){\n",
    "    dir.create(file.path(current_dir, output_graph_dir))\n",
    "} else {\n",
    "    print (\"Directory already exists\")\n",
    "}\n",
    "\n",
    "ggsave(file.path(current_dir, output_graph_dir, args[3]), \n",
    "       my_plot, width=15, height=10)"
   ]
  },
  {
   "cell_type": "markdown",
   "metadata": {},
   "source": [
    "- Upload **analyze-2.R** into **intro-to-r** on Palmetto\n",
    "- Test run **analyze-2.R**"
   ]
  },
  {
   "cell_type": "code",
   "execution_count": 9,
   "metadata": {},
   "outputs": [
    {
     "name": "stdout",
     "output_type": "stream",
     "text": [
      "[1] \"/home/lngo/git/workshop-r-intro-data-science/\"\n",
      "[2] \"data/combined.csv\"                            \n",
      "[3] \"years_sex_counts-3.png\"                       \n",
      "\n",
      "Attaching package: ‘dplyr’\n",
      "\n",
      "The following objects are masked from ‘package:stats’:\n",
      "\n",
      "    filter, lag\n",
      "\n",
      "The following objects are masked from ‘package:base’:\n",
      "\n",
      "    intersect, setdiff, setequal, union\n",
      "\n",
      "[1] \"Directory already exists\"\n"
     ]
    }
   ],
   "source": [
    "!module load R; Rscript analyze-2.R /home/$USER/git/workshop-r-intro-data-science/ data/combined.csv years_sex_counts_3.png"
   ]
  },
  {
   "cell_type": "markdown",
   "metadata": {},
   "source": [
    "- Create a new text file named **analyze-3.R**"
   ]
  },
  {
   "cell_type": "code",
   "execution_count": 10,
   "metadata": {},
   "outputs": [
    {
     "name": "stdout",
     "output_type": "stream",
     "text": [
      "/software/anaconda3/5.0.1/bin/Rscript\r\n"
     ]
    }
   ],
   "source": [
    "!module load R; which Rscript"
   ]
  },
  {
   "cell_type": "code",
   "execution_count": 11,
   "metadata": {},
   "outputs": [
    {
     "name": "stdout",
     "output_type": "stream",
     "text": [
      "Writing analyze-3.R\n"
     ]
    }
   ],
   "source": [
    "%%writefile analyze-3.R\n",
    "#!/usr/bin/env /software/anaconda3/5.0.1/bin/Rscript\n",
    "args = commandArgs(trailingOnly=TRUE)\n",
    "\n",
    "print (args)\n",
    "\n",
    "setwd(args[1])\n",
    "surveys <- read.csv(args[2])\n",
    "\n",
    "library(dplyr)\n",
    "\n",
    "surveys_complete <- surveys %>%\n",
    "  filter(species_id != \"\",         # remove missing species_id\n",
    "         !is.na(weight),           # remove missing weight\n",
    "         !is.na(hindfoot_length),  # remove missing hindfoot_length\n",
    "         sex != \"\")                # remove missing sex\n",
    "    \n",
    "## Extract the most common species_id\n",
    "species_counts <- surveys_complete %>%\n",
    "  group_by(species_id) %>%\n",
    "  tally %>%\n",
    "  filter(n >= 50)\n",
    "    \n",
    "## Only keep the most common species\n",
    "surveys_complete <- surveys_complete %>%\n",
    "  filter(species_id %in% species_counts$species_id)\n",
    "\n",
    "yearly_sex_counts <- surveys_complete %>%\n",
    "  group_by(year, species_id, sex) %>%\n",
    "  tally\n",
    "    \n",
    "library(ggplot2)\n",
    "\n",
    "my_plot <- ggplot(data = yearly_sex_counts, aes(x = year, y = n, color = sex, group = sex)) +\n",
    "    geom_line() +\n",
    "    facet_wrap(~ species_id) +\n",
    "    labs(title = 'Observed species in time',\n",
    "        x = 'Year of observation',\n",
    "        y = 'Number of species') +\n",
    "    theme_bw() +\n",
    "    theme(axis.text.x = element_text(colour=\"grey20\", size=12, angle=90, hjust=.5, vjust=.5),\n",
    "                        axis.text.y = element_text(colour=\"grey20\", size=12),\n",
    "          text=element_text(size=16, family=\"Arial\"))\n",
    "\n",
    "current_dir <- getwd()\n",
    "output_graph_dir <- 'output_graph'\n",
    "\n",
    "if (!file.exists(output_graph_dir)){\n",
    "    dir.create(file.path(current_dir, output_graph_dir))\n",
    "} else {\n",
    "    print (\"Directory already exists\")\n",
    "}\n",
    "\n",
    "ggsave(file.path(current_dir, output_graph_dir, args[3]), \n",
    "       my_plot, width=15, height=10)"
   ]
  },
  {
   "cell_type": "markdown",
   "metadata": {},
   "source": [
    "- Upload **analyze-3.R** into **intro-to-r** on Palmetto\n",
    "- Test run **analyze-3.R**"
   ]
  },
  {
   "cell_type": "code",
   "execution_count": 13,
   "metadata": {},
   "outputs": [
    {
     "name": "stdout",
     "output_type": "stream",
     "text": [
      "[1] \"/home/lngo/git/workshop-r-intro-data-science/\"\n",
      "[2] \"data/combined.csv\"                            \n",
      "[3] \"years_sex_counts-4.png\"                       \n",
      "\n",
      "Attaching package: ‘dplyr’\n",
      "\n",
      "The following objects are masked from ‘package:stats’:\n",
      "\n",
      "    filter, lag\n",
      "\n",
      "The following objects are masked from ‘package:base’:\n",
      "\n",
      "    intersect, setdiff, setequal, union\n",
      "\n",
      "[1] \"Directory already exists\"\n"
     ]
    }
   ],
   "source": [
    "!chmod 755 /home/lngo/git/workshop-r-intro-data-science/analyze-3.R\n",
    "!/home/lngo/git/workshop-r-intro-data-science/analyze-3.R /home/lngo/git/workshop-r-intro-data-science/ data/combined.csv years_sex_counts-4.png"
   ]
  },
  {
   "cell_type": "markdown",
   "metadata": {},
   "source": [
    "- Create a submission script for Palmetto named **analyze.pbs** in **intro-to-r**:"
   ]
  },
  {
   "cell_type": "code",
   "execution_count": 1,
   "metadata": {},
   "outputs": [
    {
     "name": "stdout",
     "output_type": "stream",
     "text": [
      "Writing analyze.pbs\n"
     ]
    }
   ],
   "source": [
    "%%writefile analyze.pbs\n",
    "#!/bin/bash\n",
    "\n",
    "#PBS -N surveys_data\n",
    "#PBS -l select=1:ncpus=8:mem=8gb\n",
    "#PBS -l walltime=00:05:00\n",
    "#PBS -j oe\n",
    "\n",
    "cd $PBS_O_WORKDIR\n",
    "\n",
    "rm output_graph/*\n",
    "./analyze-3.R $HOME/workshop-r-intro-data-science/data/combined.csv years_sex_counts-pbs.png"
   ]
  },
  {
   "cell_type": "markdown",
   "metadata": {},
   "source": [
    "- Upload **analyze.pbs** into **intro-to-r** on Palmetto\n",
    "- Open a terminal on JupyterHub interface\n",
    "- Login to the head node using the command *ssh login001*\n",
    "- Change directory to **intro-to-r**\n",
    "- Submit the **analyze.pbs** script\n",
    "- Observe the process"
   ]
  }
 ],
 "metadata": {
  "kernelspec": {
   "display_name": "Python 3 (Anaconda)",
   "language": "python",
   "name": "anaconda_py3"
  },
  "language_info": {
   "codemirror_mode": {
    "name": "ipython",
    "version": 3
   },
   "file_extension": ".py",
   "mimetype": "text/x-python",
   "name": "python",
   "nbconvert_exporter": "python",
   "pygments_lexer": "ipython3",
   "version": "3.5.2"
  }
 },
 "nbformat": 4,
 "nbformat_minor": 2
}
